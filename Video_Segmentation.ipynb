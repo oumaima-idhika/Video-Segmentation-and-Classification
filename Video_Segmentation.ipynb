{
  "metadata": {
    "kernelspec": {
      "language": "python",
      "display_name": "Python 3",
      "name": "python3"
    },
    "language_info": {
      "name": "python",
      "version": "3.7.6",
      "mimetype": "text/x-python",
      "codemirror_mode": {
        "name": "ipython",
        "version": 3
      },
      "pygments_lexer": "ipython3",
      "nbconvert_exporter": "python",
      "file_extension": ".py"
    },
    "colab": {
      "name": "u-net-with-cityscapes (2).ipynb",
      "provenance": []
    },
    "accelerator": "GPU"
  },
  "nbformat_minor": 0,
  "nbformat": 4,
  "cells": [
    {
      "cell_type": "markdown",
      "source": [
        "## Import libraries"
      ],
      "metadata": {
        "id": "6GaDp8DoDo2L"
      }
    },
    {
      "cell_type": "code",
      "source": [
        "from google.colab import drive\n",
        "\n",
        "drive.mount('/content/gdrive')"
      ],
      "metadata": {
        "colab": {
          "base_uri": "https://localhost:8080/"
        },
        "id": "xv1sQM7uDp18",
        "outputId": "0abe7ac3-6619-4b4e-bbcf-cf713639ff22"
      },
      "execution_count": 2,
      "outputs": [
        {
          "output_type": "stream",
          "name": "stdout",
          "text": [
            "Mounted at /content/gdrive\n"
          ]
        }
      ]
    },
    {
      "cell_type": "code",
      "source": [
        "import tensorflow as tf\n",
        "import numpy as np\n",
        "import os\n",
        "import glob\n",
        "import matplotlib.pyplot as plt\n",
        "%matplotlib inline"
      ],
      "metadata": {
        "_uuid": "d629ff2d2480ee46fbb7e2d37f6b5fab8052498a",
        "_cell_guid": "79c7e3d0-c299-4dcb-8224-4455121ee9b0",
        "execution": {
          "iopub.status.busy": "2022-05-30T21:12:20.220055Z",
          "iopub.execute_input": "2022-05-30T21:12:20.220431Z",
          "iopub.status.idle": "2022-05-30T21:12:22.117960Z",
          "shell.execute_reply.started": "2022-05-30T21:12:20.220396Z",
          "shell.execute_reply": "2022-05-30T21:12:22.117042Z"
        },
        "trusted": true,
        "id": "6KhpikH3Do2W"
      },
      "execution_count": 3,
      "outputs": []
    },
    {
      "cell_type": "markdown",
      "source": [
        "## Read the Datasets"
      ],
      "metadata": {
        "id": "fLpYGvcoDo2a"
      }
    },
    {
      "cell_type": "code",
      "source": [
        "img = glob.glob('/content/gdrive/MyDrive/Cityspaces/images/train/*/*.png')\n",
        "label = glob.glob('/content/gdrive/MyDrive/Cityspaces/gtFine/train/*/*_gtFine_labelIds.png')\n",
        "img_names = [path.split('/train/')[1].split('_leftImg8bit.png')[0] for path in img]\n",
        "label = ['/content/gdrive/MyDrive/Cityspacess/gtFine/train/' + name + '_gtFine_labelIds.png' for name in img_names]\n",
        "\n",
        "len(img)"
      ],
      "metadata": {
        "execution": {
          "iopub.status.busy": "2022-05-30T21:12:22.119969Z",
          "iopub.execute_input": "2022-05-30T21:12:22.120407Z",
          "iopub.status.idle": "2022-05-30T21:12:22.230850Z",
          "shell.execute_reply.started": "2022-05-30T21:12:22.120357Z",
          "shell.execute_reply": "2022-05-30T21:12:22.229917Z"
        },
        "trusted": true,
        "colab": {
          "base_uri": "https://localhost:8080/"
        },
        "id": "fzw48bN3Do2c",
        "outputId": "52503b9c-0a7c-481c-e399-1e6488c4b35d"
      },
      "execution_count": 4,
      "outputs": [
        {
          "output_type": "execute_result",
          "data": {
            "text/plain": [
              "2975"
            ]
          },
          "metadata": {},
          "execution_count": 4
        }
      ]
    },
    {
      "cell_type": "markdown",
      "source": [
        "**Pre-Shuffle the Data so as to Reduce the Buffer Size (for smaller-Size CPU & GPU)**"
      ],
      "metadata": {
        "id": "VlgsXIo-Do2f"
      }
    },
    {
      "cell_type": "code",
      "source": [
        "index = np.random.permutation(2975)\n",
        "img = np.array(img)[index]\n",
        "label = np.array(label)[index]\n",
        "\n",
        "img[:5], label[:5]"
      ],
      "metadata": {
        "execution": {
          "iopub.status.busy": "2022-05-30T21:12:22.232315Z",
          "iopub.execute_input": "2022-05-30T21:12:22.232740Z",
          "iopub.status.idle": "2022-05-30T21:12:22.250588Z",
          "shell.execute_reply.started": "2022-05-30T21:12:22.232698Z",
          "shell.execute_reply": "2022-05-30T21:12:22.249804Z"
        },
        "trusted": true,
        "colab": {
          "base_uri": "https://localhost:8080/"
        },
        "id": "gSQ3EGcTDo2h",
        "outputId": "e0367106-8680-4019-cb3b-319cdbf6918c"
      },
      "execution_count": 5,
      "outputs": [
        {
          "output_type": "execute_result",
          "data": {
            "text/plain": [
              "(array(['/content/gdrive/MyDrive/Cityspaces/images/train/cologne/cologne_000021_000019_leftImg8bit.png',\n",
              "        '/content/gdrive/MyDrive/Cityspaces/images/train/bochum/bochum_000000_024343_leftImg8bit.png',\n",
              "        '/content/gdrive/MyDrive/Cityspaces/images/train/darmstadt/darmstadt_000044_000019_leftImg8bit.png',\n",
              "        '/content/gdrive/MyDrive/Cityspaces/images/train/zurich/zurich_000102_000019_leftImg8bit.png',\n",
              "        '/content/gdrive/MyDrive/Cityspaces/images/train/aachen/aachen_000053_000019_leftImg8bit.png'],\n",
              "       dtype='<U109'),\n",
              " array(['/content/gdrive/MyDrive/Cityspacess/gtFine/train/cologne/cologne_000021_000019_gtFine_labelIds.png',\n",
              "        '/content/gdrive/MyDrive/Cityspacess/gtFine/train/bochum/bochum_000000_024343_gtFine_labelIds.png',\n",
              "        '/content/gdrive/MyDrive/Cityspacess/gtFine/train/darmstadt/darmstadt_000044_000019_gtFine_labelIds.png',\n",
              "        '/content/gdrive/MyDrive/Cityspacess/gtFine/train/zurich/zurich_000102_000019_gtFine_labelIds.png',\n",
              "        '/content/gdrive/MyDrive/Cityspacess/gtFine/train/aachen/aachen_000053_000019_gtFine_labelIds.png'],\n",
              "       dtype='<U114'))"
            ]
          },
          "metadata": {},
          "execution_count": 5
        }
      ]
    },
    {
      "cell_type": "code",
      "source": [
        "val_img = glob.glob('/content/gdrive/MyDrive/Cityspaces/images/val/*/*.png')\n",
        "val_label = glob.glob('/content/gdrive/MyDrive/Cityspaces/gtFine/val/*/*_gtFine_labelIds.png')\n",
        "img_names = [path.split('/val/')[1].split('_leftImg8bit.png')[0] for path in val_img]\n",
        "val_label = ['/content/gdrive/MyDrive/Cityspaces/gtFine/val/' + name + '_gtFine_labelIds.png' for name in img_names]\n",
        "\n",
        "len(val_img), len(val_label)"
      ],
      "metadata": {
        "execution": {
          "iopub.status.busy": "2022-05-30T21:12:22.253983Z",
          "iopub.execute_input": "2022-05-30T21:12:22.254282Z",
          "iopub.status.idle": "2022-05-30T21:12:22.279145Z",
          "shell.execute_reply.started": "2022-05-30T21:12:22.254252Z",
          "shell.execute_reply": "2022-05-30T21:12:22.278108Z"
        },
        "trusted": true,
        "colab": {
          "base_uri": "https://localhost:8080/"
        },
        "id": "tyu8xvB-Do2k",
        "outputId": "15ca3ab5-113b-4908-8edd-8ef64e9b672b"
      },
      "execution_count": 6,
      "outputs": [
        {
          "output_type": "execute_result",
          "data": {
            "text/plain": [
              "(500, 500)"
            ]
          },
          "metadata": {},
          "execution_count": 6
        }
      ]
    },
    {
      "cell_type": "code",
      "source": [
        "train_ds = tf.data.Dataset.from_tensor_slices((img, label))\n",
        "val_ds = tf.data.Dataset.from_tensor_slices((val_img, val_label))"
      ],
      "metadata": {
        "execution": {
          "iopub.status.busy": "2022-05-30T21:12:22.282799Z",
          "iopub.execute_input": "2022-05-30T21:12:22.283106Z",
          "iopub.status.idle": "2022-05-30T21:12:23.138288Z",
          "shell.execute_reply.started": "2022-05-30T21:12:22.283075Z",
          "shell.execute_reply": "2022-05-30T21:12:23.137255Z"
        },
        "trusted": true,
        "id": "RULajn0kDo2p"
      },
      "execution_count": null,
      "outputs": []
    },
    {
      "cell_type": "code",
      "source": [
        "def read_png(img):\n",
        "    img = tf.io.read_file(img)\n",
        "    img = tf.image.decode_png(img, channels=3)\n",
        "    return img\n",
        "    \n",
        "def read_png_label(img):\n",
        "    img = tf.io.read_file(img)\n",
        "    img = tf.image.decode_png(img, channels=1)\n",
        "    return img"
      ],
      "metadata": {
        "execution": {
          "iopub.status.busy": "2022-05-30T21:12:23.140835Z",
          "iopub.execute_input": "2022-05-30T21:12:23.141246Z",
          "iopub.status.idle": "2022-05-30T21:12:23.148935Z",
          "shell.execute_reply.started": "2022-05-30T21:12:23.141203Z",
          "shell.execute_reply": "2022-05-30T21:12:23.147700Z"
        },
        "trusted": true,
        "id": "G7kJd6FwDo21"
      },
      "execution_count": null,
      "outputs": []
    },
    {
      "cell_type": "markdown",
      "source": [
        "## Data Augmentation\n"
      ],
      "metadata": {
        "id": "xuBuxjmSDo24"
      }
    },
    {
      "cell_type": "code",
      "source": [
        "def rand_crop(img, label):\n",
        "    concat_img = tf.concat([img, label], axis=-1)\n",
        "    concat_img = tf.image.resize(concat_img, [280, 560], method=tf.image.ResizeMethod.NEAREST_NEIGHBOR)\n",
        "    crop_img = tf.image.random_crop(concat_img, [256, 256, 4])\n",
        "    return crop_img[:, :, :3], crop_img[:, :, 3:]\n",
        "\n",
        "def norm(img, label):\n",
        "    img = tf.cast(img, tf.float32)/127.5-1\n",
        "    label = tf.cast(label, tf.int32)\n",
        "    return img, label"
      ],
      "metadata": {
        "execution": {
          "iopub.status.busy": "2022-05-30T21:12:23.150650Z",
          "iopub.execute_input": "2022-05-30T21:12:23.151137Z",
          "iopub.status.idle": "2022-05-30T21:12:23.162582Z",
          "shell.execute_reply.started": "2022-05-30T21:12:23.151091Z",
          "shell.execute_reply": "2022-05-30T21:12:23.161350Z"
        },
        "trusted": true,
        "id": "Y-i8hUQbDo26"
      },
      "execution_count": null,
      "outputs": []
    },
    {
      "cell_type": "code",
      "source": [
        "def load_img_train(img, label):\n",
        "    img = read_png(img)\n",
        "    label = read_png_label(label)\n",
        "    \n",
        "    img, label = rand_crop(img, label)\n",
        "    \n",
        "    if tf.random.uniform(()) > 0.5:\n",
        "        img = tf.image.flip_left_right(img)\n",
        "        label = tf.image.flip_left_right(label)\n",
        "    return norm(img, label)\n",
        "\n",
        "def load_img_val(img, label):\n",
        "    img = read_png(img)\n",
        "    label = read_png_label(label)\n",
        "    \n",
        "    img = tf.image.resize(img, [256, 256])\n",
        "    label = tf.image.resize(label, [256, 256])\n",
        "    return norm(img, label)"
      ],
      "metadata": {
        "execution": {
          "iopub.status.busy": "2022-05-30T21:12:23.164360Z",
          "iopub.execute_input": "2022-05-30T21:12:23.165497Z",
          "iopub.status.idle": "2022-05-30T21:12:23.177121Z",
          "shell.execute_reply.started": "2022-05-30T21:12:23.165398Z",
          "shell.execute_reply": "2022-05-30T21:12:23.176127Z"
        },
        "trusted": true,
        "id": "HM8QtkKeDo29"
      },
      "execution_count": null,
      "outputs": []
    },
    {
      "cell_type": "code",
      "source": [
        "BATCH_SIZE = 32\n",
        "BUFFER_SIZE = 300\n",
        "steps_per_epoch = 2975 // BATCH_SIZE\n",
        "validation_steps = 500 // BATCH_SIZE\n",
        "auto = tf.data.experimental.AUTOTUNE\n",
        "\n",
        "train_ds = train_ds.map(load_img_train, num_parallel_calls=auto)\n",
        "val_ds = val_ds.map(load_img_val, num_parallel_calls=auto)"
      ],
      "metadata": {
        "execution": {
          "iopub.status.busy": "2022-05-30T21:12:23.178986Z",
          "iopub.execute_input": "2022-05-30T21:12:23.179406Z",
          "iopub.status.idle": "2022-05-30T21:12:23.666053Z",
          "shell.execute_reply.started": "2022-05-30T21:12:23.179360Z",
          "shell.execute_reply": "2022-05-30T21:12:23.665157Z"
        },
        "trusted": true,
        "id": "35xXriYkDo2_"
      },
      "execution_count": null,
      "outputs": []
    },
    {
      "cell_type": "code",
      "source": [
        "for img, label in val_ds.take(1):\n",
        "    plt.subplot(1, 2, 1)\n",
        "    plt.imshow((img + 1)/2)\n",
        "    plt.subplot(1, 2, 2)\n",
        "    plt.imshow(np.squeeze(label))"
      ],
      "metadata": {
        "execution": {
          "iopub.status.busy": "2022-05-30T21:12:23.667386Z",
          "iopub.execute_input": "2022-05-30T21:12:23.667785Z",
          "iopub.status.idle": "2022-05-30T21:12:24.491292Z",
          "shell.execute_reply.started": "2022-05-30T21:12:23.667743Z",
          "shell.execute_reply": "2022-05-30T21:12:24.490140Z"
        },
        "trusted": true,
        "id": "rRH8LZWRDo3A"
      },
      "execution_count": null,
      "outputs": []
    },
    {
      "cell_type": "code",
      "source": [
        "train_ds = train_ds.cache().repeat().shuffle(BUFFER_SIZE).batch(BATCH_SIZE).prefetch(auto)\n",
        "val_ds = val_ds.cache().batch(BATCH_SIZE)"
      ],
      "metadata": {
        "execution": {
          "iopub.status.busy": "2022-05-30T21:12:24.492623Z",
          "iopub.execute_input": "2022-05-30T21:12:24.493005Z",
          "iopub.status.idle": "2022-05-30T21:12:24.502985Z",
          "shell.execute_reply.started": "2022-05-30T21:12:24.492969Z",
          "shell.execute_reply": "2022-05-30T21:12:24.501805Z"
        },
        "trusted": true,
        "id": "M_JoJ4EiDo3C"
      },
      "execution_count": null,
      "outputs": []
    },
    {
      "cell_type": "markdown",
      "source": [
        "## Define the U-Net Model"
      ],
      "metadata": {
        "id": "7XnM34qwDo3D"
      }
    },
    {
      "cell_type": "code",
      "source": [
        "def create_model():\n",
        "    inputs = tf.keras.layers.Input(shape=(256, 256, 3))\n",
        "    \n",
        "    x = tf.keras.layers.Conv2D(64, 3, padding='same', activation='relu')(inputs)\n",
        "    x = tf.keras.layers.BatchNormalization()(x)\n",
        "    x = tf.keras.layers.Conv2D(64, 3, padding='same', activation='relu')(x)\n",
        "    x = tf.keras.layers.BatchNormalization()(x) \n",
        "    \n",
        "    x1 = tf.keras.layers.MaxPooling2D(padding='same')(x)\n",
        "    \n",
        "    x1 = tf.keras.layers.Conv2D(128, 3, padding='same', activation='relu')(x1)\n",
        "    x1 = tf.keras.layers.BatchNormalization()(x1)\n",
        "    x1 = tf.keras.layers.Conv2D(128, 3, padding='same', activation='relu')(x1)\n",
        "    x1 = tf.keras.layers.BatchNormalization()(x1) \n",
        "    \n",
        "    x2 = tf.keras.layers.MaxPooling2D(padding='same')(x1) \n",
        "    \n",
        "    x2 = tf.keras.layers.Conv2D(256, 3, padding='same', activation='relu')(x2)\n",
        "    x2 = tf.keras.layers.BatchNormalization()(x2)\n",
        "    x2 = tf.keras.layers.Conv2D(256, 3, padding='same', activation='relu')(x2)\n",
        "    x2 = tf.keras.layers.BatchNormalization()(x2) \n",
        "    \n",
        "    x3 = tf.keras.layers.MaxPooling2D(padding='same')(x2) \n",
        "    \n",
        "    x3 = tf.keras.layers.Conv2D(512, 3, padding='same', activation='relu')(x3)\n",
        "    x3 = tf.keras.layers.BatchNormalization()(x3)\n",
        "    x3 = tf.keras.layers.Conv2D(512, 3, padding='same', activation='relu')(x3)\n",
        "    x3 = tf.keras.layers.BatchNormalization()(x3)\n",
        "    \n",
        "    x4 = tf.keras.layers.MaxPooling2D(padding='same')(x3) \n",
        "    \n",
        "    x4 = tf.keras.layers.Conv2D(1024, 3, padding='same', activation='relu')(x4)\n",
        "    x4 = tf.keras.layers.BatchNormalization()(x4)\n",
        "    x4 = tf.keras.layers.Conv2D(1024, 3, padding='same', activation='relu')(x4)\n",
        "    x4 = tf.keras.layers.BatchNormalization()(x4) \n",
        "    \n",
        "    x5 = tf.keras.layers.Conv2DTranspose(512, 2, strides=2, padding='same', activation='relu')(x4)\n",
        "    x5 = tf.keras.layers.BatchNormalization()(x5)\n",
        "    \n",
        "    x6 = tf.concat([x3, x5], axis=-1) \n",
        "    \n",
        "    x6 = tf.keras.layers.Conv2D(512, 3, padding='same', activation='relu')(x6)\n",
        "    x6 = tf.keras.layers.BatchNormalization()(x6)\n",
        "    x6 = tf.keras.layers.Conv2D(512, 3, padding='same', activation='relu')(x6)\n",
        "    x6 = tf.keras.layers.BatchNormalization()(x6)  \n",
        "    \n",
        "    x7 = tf.keras.layers.Conv2DTranspose(256, 2, strides=2, padding='same', activation='relu')(x6)\n",
        "    x7 = tf.keras.layers.BatchNormalization()(x7) \n",
        "    \n",
        "    x8 = tf.concat([x2, x7], axis=-1)\n",
        "    \n",
        "    x8 = tf.keras.layers.Conv2D(256, 3, padding='same', activation='relu')(x8)\n",
        "    x8 = tf.keras.layers.BatchNormalization()(x8)\n",
        "    x8 = tf.keras.layers.Conv2D(256, 3, padding='same', activation='relu')(x8)\n",
        "    x8 = tf.keras.layers.BatchNormalization()(x8)  \n",
        "    \n",
        "    x9 = tf.keras.layers.Conv2DTranspose(128, 2, strides=2, padding='same', activation='relu')(x8)\n",
        "    x9 = tf.keras.layers.BatchNormalization()(x9)  \n",
        "    \n",
        "    x10 = tf.concat([x1, x9], axis=-1) \n",
        "    \n",
        "    x10 = tf.keras.layers.Conv2D(128, 3, padding='same', activation='relu')(x10)\n",
        "    x10 = tf.keras.layers.BatchNormalization()(x10)\n",
        "    x10 = tf.keras.layers.Conv2D(128, 3, padding='same', activation='relu')(x10)\n",
        "    x10 = tf.keras.layers.BatchNormalization()(x10)  \n",
        "    \n",
        "    x11 = tf.keras.layers.Conv2DTranspose(64, 2, strides=2, padding='same', activation='relu')(x10)\n",
        "    x11 = tf.keras.layers.BatchNormalization()(x11)  \n",
        "    \n",
        "    x12 = tf.concat([x, x11], axis=-1) \n",
        "    \n",
        "    x12 = tf.keras.layers.Conv2D(64, 3, padding='same', activation='relu')(x12)\n",
        "    x12 = tf.keras.layers.BatchNormalization()(x12)\n",
        "    x12 = tf.keras.layers.Conv2D(64, 3, padding='same', activation='relu')(x12)\n",
        "    x12 = tf.keras.layers.BatchNormalization()(x12)\n",
        "    \n",
        "    outputs = tf.keras.layers.Conv2D(34, 1, activation='softmax')(x12) \n",
        "    \n",
        "    return tf.keras.Model(inputs=inputs, outputs=outputs)"
      ],
      "metadata": {
        "execution": {
          "iopub.status.busy": "2022-05-30T21:12:24.505092Z",
          "iopub.execute_input": "2022-05-30T21:12:24.505782Z",
          "iopub.status.idle": "2022-05-30T21:12:24.669904Z",
          "shell.execute_reply.started": "2022-05-30T21:12:24.505734Z",
          "shell.execute_reply": "2022-05-30T21:12:24.668792Z"
        },
        "trusted": true,
        "id": "E24WjZrZDo3E"
      },
      "execution_count": null,
      "outputs": []
    },
    {
      "cell_type": "code",
      "source": [
        "model = create_model()\n",
        "model.summary()"
      ],
      "metadata": {
        "execution": {
          "iopub.status.busy": "2022-05-30T21:12:24.671888Z",
          "iopub.execute_input": "2022-05-30T21:12:24.672510Z",
          "iopub.status.idle": "2022-05-30T21:12:25.459006Z",
          "shell.execute_reply.started": "2022-05-30T21:12:24.672461Z",
          "shell.execute_reply": "2022-05-30T21:12:25.458163Z"
        },
        "trusted": true,
        "id": "q-u-Pq28Do3G"
      },
      "execution_count": null,
      "outputs": []
    },
    {
      "cell_type": "markdown",
      "source": [
        "## Compile the Model"
      ],
      "metadata": {
        "id": "XWxMW67rDo3H"
      }
    },
    {
      "cell_type": "code",
      "source": [
        "class MeanIoU(tf.keras.metrics.MeanIoU):\n",
        "    def __call__(self, y_true, y_pred, sample_weight=None):\n",
        "        y_pred = tf.argmax(y_pred, axis=-1)\n",
        "        return super().__call__(y_true, y_pred, sample_weight=sample_weight)"
      ],
      "metadata": {
        "execution": {
          "iopub.status.busy": "2022-05-30T21:12:25.463472Z",
          "iopub.execute_input": "2022-05-30T21:12:25.463784Z",
          "iopub.status.idle": "2022-05-30T21:12:25.473665Z",
          "shell.execute_reply.started": "2022-05-30T21:12:25.463753Z",
          "shell.execute_reply": "2022-05-30T21:12:25.472694Z"
        },
        "trusted": true,
        "id": "6eTlKQmZDo3I"
      },
      "execution_count": null,
      "outputs": []
    },
    {
      "cell_type": "code",
      "source": [
        "from tensorflow.keras.callbacks import ModelCheckpoint\n",
        "model_path = 'myunet1.h5'\n",
        "callbacks = [\n",
        "    ModelCheckpoint(model_path, monitor=\"val_loss\", verbose=1)\n",
        "]"
      ],
      "metadata": {
        "execution": {
          "iopub.status.busy": "2022-05-30T21:12:25.477945Z",
          "iopub.execute_input": "2022-05-30T21:12:25.478243Z",
          "iopub.status.idle": "2022-05-30T21:12:25.487262Z",
          "shell.execute_reply.started": "2022-05-30T21:12:25.478212Z",
          "shell.execute_reply": "2022-05-30T21:12:25.486210Z"
        },
        "trusted": true,
        "id": "06_SbSBxDo3J"
      },
      "execution_count": null,
      "outputs": []
    },
    {
      "cell_type": "code",
      "source": [
        "model.compile(optimizer='adam', \n",
        "              loss='sparse_categorical_crossentropy', \n",
        "              metrics=['acc'])"
      ],
      "metadata": {
        "execution": {
          "iopub.status.busy": "2022-05-30T21:12:25.492200Z",
          "iopub.execute_input": "2022-05-30T21:12:25.492582Z",
          "iopub.status.idle": "2022-05-30T21:12:25.517243Z",
          "shell.execute_reply.started": "2022-05-30T21:12:25.492533Z",
          "shell.execute_reply": "2022-05-30T21:12:25.516397Z"
        },
        "trusted": true,
        "id": "8i4OcE2SDo3K"
      },
      "execution_count": null,
      "outputs": []
    },
    {
      "cell_type": "code",
      "source": [
        "history = model.fit(train_ds, steps_per_epoch=steps_per_epoch, validation_data=val_ds, validation_steps=validation_steps, epochs=50 , callbacks=callbacks)"
      ],
      "metadata": {
        "execution": {
          "iopub.status.busy": "2022-05-30T21:12:25.519636Z",
          "iopub.execute_input": "2022-05-30T21:12:25.520277Z",
          "iopub.status.idle": "2022-05-30T22:53:06.244429Z",
          "shell.execute_reply.started": "2022-05-30T21:12:25.520229Z",
          "shell.execute_reply": "2022-05-30T22:53:06.242233Z"
        },
        "trusted": true,
        "id": "BqZS9ve-Do3L"
      },
      "execution_count": null,
      "outputs": []
    },
    {
      "cell_type": "code",
      "source": [
        "loss = history.history['loss']\n",
        "val_loss = history.history['val_loss']\n",
        "\n",
        "plt.figure()\n",
        "plt.plot(range(50), loss, 'r', label='Training Loss')\n",
        "plt.plot(range(50), val_loss, 'bo', label='Validation Loss')\n",
        "plt.title('Training & Validation Loss')\n",
        "plt.xlabel('Epoch')\n",
        "plt.ylabel('Loss')\n",
        "\n",
        "plt.legend()\n",
        "plt.show()"
      ],
      "metadata": {
        "execution": {
          "iopub.status.busy": "2022-05-30T22:53:06.249131Z",
          "iopub.execute_input": "2022-05-30T22:53:06.250174Z",
          "iopub.status.idle": "2022-05-30T22:53:06.479952Z",
          "shell.execute_reply.started": "2022-05-30T22:53:06.250134Z",
          "shell.execute_reply": "2022-05-30T22:53:06.478752Z"
        },
        "trusted": true,
        "id": "aUGty_LiDo3M"
      },
      "execution_count": null,
      "outputs": []
    },
    {
      "cell_type": "code",
      "source": [
        "num = 3\n",
        "\n",
        "for img, label in val_ds.take(1):\n",
        "    pred_label = model.predict(img)\n",
        "    pred_label = tf.argmax(pred_label, axis=-1)\n",
        "    pred_label = pred_label[..., tf.newaxis]\n",
        "    \n",
        "    plt.figure(figsize=(10, 10))\n",
        "    for i in range(num):\n",
        "        plt.subplot(num, 3, i*num+1)\n",
        "        plt.imshow(tf.keras.preprocessing.image.array_to_img(img[i]))\n",
        "        plt.subplot(num, 3, i*num+2)\n",
        "        plt.imshow(tf.keras.preprocessing.image.array_to_img(label[i]))\n",
        "        plt.subplot(num, 3, i*num+3)\n",
        "        plt.imshow(tf.keras.preprocessing.image.array_to_img(pred_label[i]))"
      ],
      "metadata": {
        "execution": {
          "iopub.status.busy": "2022-05-30T22:53:06.481666Z",
          "iopub.execute_input": "2022-05-30T22:53:06.482139Z",
          "iopub.status.idle": "2022-05-30T22:53:11.769607Z",
          "shell.execute_reply.started": "2022-05-30T22:53:06.482090Z",
          "shell.execute_reply": "2022-05-30T22:53:11.768616Z"
        },
        "trusted": true,
        "id": "JdiQ-dryDo3O"
      },
      "execution_count": null,
      "outputs": []
    },
    {
      "cell_type": "code",
      "source": [
        "for img, label in train_ds.take(1):\n",
        "    pred_label = model.predict(img)\n",
        "    pred_label = tf.argmax(pred_label, axis=-1)\n",
        "    pred_label = pred_label[..., tf.newaxis]\n",
        "    \n",
        "    plt.figure(figsize=(10, 10))\n",
        "    for i in range(num):\n",
        "        plt.subplot(num, 3, i*num+1)\n",
        "        plt.imshow(tf.keras.preprocessing.image.array_to_img(img[i]))\n",
        "        plt.subplot(num, 3, i*num+2)\n",
        "        plt.imshow(tf.keras.preprocessing.image.array_to_img(label[i]))\n",
        "        plt.subplot(num, 3, i*num+3)\n",
        "        plt.imshow(tf.keras.preprocessing.image.array_to_img(pred_label[i]))"
      ],
      "metadata": {
        "execution": {
          "iopub.status.busy": "2022-05-30T22:53:11.771381Z",
          "iopub.execute_input": "2022-05-30T22:53:11.772118Z",
          "iopub.status.idle": "2022-05-30T22:53:14.266550Z",
          "shell.execute_reply.started": "2022-05-30T22:53:11.772062Z",
          "shell.execute_reply": "2022-05-30T22:53:14.265625Z"
        },
        "trusted": true,
        "id": "i9E8A-QwDo3P"
      },
      "execution_count": null,
      "outputs": []
    },
    {
      "cell_type": "code",
      "source": [
        "model.save('MyUNet.h5')"
      ],
      "metadata": {
        "execution": {
          "iopub.status.busy": "2022-05-30T22:53:14.268170Z",
          "iopub.execute_input": "2022-05-30T22:53:14.268797Z",
          "iopub.status.idle": "2022-05-30T22:53:15.113580Z",
          "shell.execute_reply.started": "2022-05-30T22:53:14.268753Z",
          "shell.execute_reply": "2022-05-30T22:53:15.112717Z"
        },
        "trusted": true,
        "id": "8Z_eC5PADo3Q"
      },
      "execution_count": null,
      "outputs": []
    }
  ]
}